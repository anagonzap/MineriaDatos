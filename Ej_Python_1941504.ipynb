{
 "cells": [
  {
   "cell_type": "code",
   "execution_count": 1,
   "metadata": {},
   "outputs": [
    {
     "name": "stdout",
     "output_type": "stream",
     "text": [
      "Hola mundo!!\n"
     ]
    }
   ],
   "source": [
    "print (\"Hola mundo!!\")\n"
   ]
  },
  {
   "cell_type": "code",
   "execution_count": 8,
   "metadata": {},
   "outputs": [
    {
     "name": "stdout",
     "output_type": "stream",
     "text": [
      "Ana Victoria Gonzalez Perez 1941504\n"
     ]
    }
   ],
   "source": [
    "##Ejercicio 1\n",
    "##Realiza una variable con tu matricula y realiza una secuencia de imprimir con tu nombre y matricula concatenados\n",
    "matricula = 1941504\n",
    "print(\"Ana Victoria Gonzalez Perez\", matricula)\n",
    "\n",
    "\n"
   ]
  },
  {
   "cell_type": "code",
   "execution_count": 40,
   "metadata": {},
   "outputs": [
    {
     "name": "stdout",
     "output_type": "stream",
     "text": [
      "Ingrese un número: 5\n",
      "Ingrese otro número: 2\n",
      "Ingrese la operacion que desea: 1:Suma\\ 2:Resta\\ 3:Multiplicacion\\ 4:Division\\ 5:Exponente\n",
      "5\n",
      "El resultado de la operación es: 25\n"
     ]
    }
   ],
   "source": [
    "## Ejercicio 2\n",
    "## Pidiendo el imput del usuario pide dos números y crea una pequeña calculadora con los operadores básicos\n",
    "\n",
    "a= int(input(\"Ingrese un número: \"))\n",
    "b= int(input(\"Ingrese otro número: \"))\n",
    "op= int(input(\"Ingrese la operacion que desea: 1:Suma\\ 2:Resta\\ 3:Multiplicacion\\ 4:Division\\ 5:Exponente\\n\"))\n",
    "if op==1:\n",
    "    n=a+b\n",
    "elif op==2:\n",
    "    n=a-b\n",
    "elif op==3:\n",
    "    n=a*b\n",
    "elif op==4:\n",
    "    n=a/b\n",
    "else:\n",
    "    n=a**b\n",
    "\n",
    "\n",
    "print(\"El resultado de la operación es:\", n)\n",
    "\n"
   ]
  },
  {
   "cell_type": "code",
   "execution_count": 20,
   "metadata": {},
   "outputs": [
    {
     "name": "stdout",
     "output_type": "stream",
     "text": [
      "3\n",
      "6\n",
      "9\n",
      "12\n",
      "15\n",
      "18\n",
      "21\n",
      "24\n",
      "27\n",
      "30\n",
      "La suma es:  165\n"
     ]
    }
   ],
   "source": [
    "##Con loop while o for, realiza una lista de 10 numeros multiplos de 3 y despues realiza una funcion de loop que sume todos los numeros dentro del arrego \n",
    "i= 1\n",
    "suma=0\n",
    "for i in range (1,31):\n",
    "    if i%3==0:\n",
    "        suma= suma+i\n",
    "        print(i)\n",
    "        i=i+1\n",
    "print(\"La suma es: \", suma)\n",
    "    "
   ]
  },
  {
   "cell_type": "code",
   "execution_count": 63,
   "metadata": {},
   "outputs": [
    {
     "ename": "SyntaxError",
     "evalue": "invalid syntax (<ipython-input-63-ff2fd3d0c768>, line 11)",
     "output_type": "error",
     "traceback": [
      "\u001b[1;36m  File \u001b[1;32m\"<ipython-input-63-ff2fd3d0c768>\"\u001b[1;36m, line \u001b[1;32m11\u001b[0m\n\u001b[1;33m    elif a%i!=0:\u001b[0m\n\u001b[1;37m    ^\u001b[0m\n\u001b[1;31mSyntaxError\u001b[0m\u001b[1;31m:\u001b[0m invalid syntax\n"
     ]
    }
   ],
   "source": [
    "##Ejercicio 4\n",
    "##Con una funcion de if else, revisar si un numero es par o es impar \n",
    "##Con una funcion de if else, revisar si un numero es primo o no\n",
    "\n",
    "a=int(input(\"Introduce un número entero: \"))\n",
    "i=2\n",
    "for i in range (2, a):\n",
    "    if a%i==0:\n",
    "        print(\"El número ingresado no es primo\")\n",
    "    break\n",
    "else:\n",
    "    print(\"El número ingresado es primo\")\n",
    "if a%2==0:\n",
    "    print(\"El número ingresado es par\")\n",
    "else:\n",
    "    print(\"El número ingresado es impar\")\n",
    "\n",
    "        \n",
    "\n"
   ]
  },
  {
   "cell_type": "code",
   "execution_count": 59,
   "metadata": {},
   "outputs": [
    {
     "name": "stdout",
     "output_type": "stream",
     "text": [
      "Introduce un número entero: 27\n"
     ]
    }
   ],
   "source": [
    "##Ejercicio 5\n",
    "##Utilizando diferentes clases en python, crea una calculadora con los operadores básicos \n",
    "class calcu():\n",
    "    def _init_(self,a,b):\n",
    "        self.a=a\n",
    "        self.b=b\n",
    "    def suma(self):\n",
    "        return self.a+self.b\n",
    "    def mult(self):\n",
    "        return self.a*self.b\n",
    "    def div(self):\n",
    "        return self.a/self.b\n",
    "    def resta(self):\n",
    "        return self.a-self.b\n",
    "a=float(input(\"Ingresa el primer número: \"))\n",
    "b=float(input(\"Ingresa el segundo número: \"))\n",
    "obj=calcu(a,b)\n",
    "op=1\n",
    "while op!=0:\n",
    "    print(\"1. Sumar\")\n",
    "    print(\"2. Restar\")\n",
    "    print(\"3. Multiplicar\")\n",
    "    print(\"4. Dividir\")\n",
    "    op=int(input(\"Escoja el número de la operación que desea: \"))\n",
    "    if op==1:\n",
    "        print(\"Resultado: \",obj.suma())\n",
    "    elif op==2:\n",
    "        print(\"Resultado: \",obj.resta())\n",
    "    elif op==3:\n",
    "        print(\"Resultado: \",obj.mult())\n",
    "    elif op==4:\n",
    "        print(\"Resultado: \",obj.div())\n",
    "    else:\n",
    "        print(\"Operación incorrecta\")\n",
    "    break"
   ]
  },
  {
   "cell_type": "code",
   "execution_count": 66,
   "metadata": {},
   "outputs": [
    {
     "name": "stdout",
     "output_type": "stream",
     "text": [
      "Seleccione una opcion de las siguientes:\n",
      "1. Número Decimal\\ 2. Número Entero\\ 3.Boolean\\ 4.Número complejo3\n",
      "Seleccione una opcion\n",
      "1. Verdadero/ 2. Falso1\n",
      "True\n"
     ]
    }
   ],
   "source": [
    "##Tuplas:\n",
    "##Crear una variable flotante, integer, boleana y compleja e imprimir el tipo de variable que es\n",
    "print(\"Seleccione una opcion de las siguientes:\")\n",
    "m= int(input(\"1. Número Decimal\\ 2. Número Entero\\ 3.Boolean\\ 4.Número complejo\"))\n",
    "if m==1: \n",
    "    a= float(input(\"Ingrese un numero decimal \"))\n",
    "    print(a, \"es un número decimal\")\n",
    "elif m==2:\n",
    "    b= int(input(\"Ingrese un entero\"))\n",
    "    print(b, \"es un número entero\")\n",
    "elif m==3:\n",
    "    print(\"Seleccione una opcion\")\n",
    "    c= int(input(\"1. Verdadero/ 2. Falso\"))\n",
    "    if c==1:\n",
    "        print(\"True\")\n",
    "    else:\n",
    "        print(\"False\")\n",
    "elif m==4:\n",
    "    d= complex(input(\"Ingrese un numero complejo\"))\n",
    "    print(d,\"es un número complejo\")\n",
    "    \n",
    "\n",
    "    \n",
    "    \n",
    "    \n",
    "    \n",
    "\n",
    "\n",
    "\n",
    "\n",
    "\n"
   ]
  },
  {
   "cell_type": "code",
   "execution_count": 71,
   "metadata": {},
   "outputs": [
    {
     "name": "stdout",
     "output_type": "stream",
     "text": [
      "4 67\n"
     ]
    }
   ],
   "source": [
    "##Crear una tupla con valores enteros imprimir el primer y ultimo valor\n",
    "\n",
    "num= (4,5,39,92,67)\n",
    "print ( num[0] , num[4])\n",
    "\n",
    "\n"
   ]
  },
  {
   "cell_type": "code",
   "execution_count": 78,
   "metadata": {},
   "outputs": [
    {
     "name": "stdout",
     "output_type": "stream",
     "text": [
      "Ingresa tu nombreana\n",
      "Ingtresa tu matricula1941504\n",
      "Ingresa tu edad20\n",
      "('ana', '1941504', '20')\n"
     ]
    }
   ],
   "source": [
    "##Añadir 3 valores de string a la tupla\n",
    "t= (0,1,2)\n",
    "\n",
    "a= str(input(\"Ingresa tu nombre\"))\n",
    "b= str(input(\"Ingtresa tu matricula\"))\n",
    "c= str(input(\"Ingresa tu edad\"))\n",
    "t=(a,b,c)\n",
    "print(t)\n",
    "\n"
   ]
  },
  {
   "cell_type": "code",
   "execution_count": 86,
   "metadata": {},
   "outputs": [
    {
     "name": "stdout",
     "output_type": "stream",
     "text": [
      "Ingrese el número que desea buscar89\n",
      "El número no se encuentra en la tupla\n"
     ]
    }
   ],
   "source": [
    "##Verifica si una var existe en una tupla \n",
    "t=[2,5,6,3,4,9,2]\n",
    "n= int(input(\"Ingrese el número que desea buscar\"))\n",
    "\n",
    "if n in t:\n",
    "    print(\"El numero está dentro de la tupla\")\n",
    "else:\n",
    "    print(\"El número \")\n"
   ]
  },
  {
   "cell_type": "code",
   "execution_count": 160,
   "metadata": {},
   "outputs": [
    {
     "name": "stdout",
     "output_type": "stream",
     "text": [
      "[31, 388, 589, 242, 462, 706, 700, 909, 288, 79, 649, 157, 31, 373, 202, 739, 493, 75, 724, 597, 297, 425, 208, 202, 949, 385, 509, 989, 963, 385, 710, 258, 741, 64, 728, 988, 268, 244, 124, 65]\n",
      "Lista de pares: [388, 242, 462, 706, 700, 288, 202, 724, 208, 202, 710, 258, 64, 728, 988, 268, 244, 124]\n",
      "Lista de impares: [31, 589, 909, 79, 649, 157, 31, 373, 739, 493, 75, 597, 297, 425, 949, 385, 509, 989, 963, 385, 741, 65]\n",
      "Pares de menor a mayor: [64, 124, 202, 202, 208, 242, 244, 258, 268, 288, 388, 462, 700, 706, 710, 724, 728, 988]\n",
      "Impares de menor a mayor [31, 31, 65, 75, 79, 157, 297, 373, 385, 385, 425, 493, 509, 589, 597, 649, 739, 741, 909, 949, 963, 989]\n"
     ]
    }
   ],
   "source": [
    "##Listas\n",
    "##Crear una lista de numeros aleatorios\n",
    "##https://es.stackoverflow.com/questions/124063/crear-una-lista-de-numeros-aleatorios-en-python\n",
    "import random\n",
    "\n",
    "i=0\n",
    "n=40\n",
    "aleatorios = [random.randint(0,1000) for _ in range(n)]\n",
    "print(aleatorios)\n",
    "\n",
    "##Con una funcion def crear dos listas nuevas a partir de la lista creada por numeros aleatorios \n",
    "##en la cual en una esten los elementos pares y en la otra los impares\n",
    "lista1= []\n",
    "lista2=[]\n",
    "for i in range(len(aleatorios)):\n",
    "    \n",
    "    if aleatorios[i]%2==0:\n",
    "        lista1.append(aleatorios[i])\n",
    "    else: \n",
    "        lista2.append(aleatorios[i])\n",
    "i=i+1\n",
    "print(\"Lista de pares:\", lista1)\n",
    "print(\"Lista de impares:\", lista2)\n",
    "\n",
    "##Ordenar los elementos de las nuevas listas de menor a mayor \n",
    "ordenpar= sorted(lista1)\n",
    "ordenimpar=sorted(lista2)\n",
    "print(\"Pares de menor a mayor:\", ordenpar)\n",
    "print(\"Impares de menor a mayor\", ordenimpar)\n",
    "\n",
    "    "
   ]
  },
  {
   "cell_type": "code",
   "execution_count": 159,
   "metadata": {},
   "outputs": [
    {
     "name": "stdout",
     "output_type": "stream",
     "text": [
      "[76, 122, 361, 279, 646, 984, 515, 10, 664, 444, 574, 198, 657, 141, 137, 75, 144, 327, 466, 890, 293, 701, 453, 853, 592, 358, 287, 866, 82, 335, 620, 379, 630, 652, 176, 67, 99, 71, 1000, 59]\n",
      "Orden: [10, 59, 67, 71, 75, 76, 82, 99, 122, 137, 141, 144, 176, 198, 279, 287, 293, 327, 335, 358, 361, 379, 444, 453, 466, 515, 574, 592, 620, 630, 646, 652, 657, 664, 701, 853, 866, 890, 984, 1000]\n",
      "Hola mundo: [76, 122, 361, 279, 646, 984, 515, 10, 664, 444, 574, 198, 657, 141, 137, 75, 144, 327, 466, 890, 293, 701, 453, 853, 592, 358, 287, 866, 82, 335, 620, 379, 630, 652, 176, 67, 99, 71, 1000, 59, 'Hola mundo']\n",
      "5 elementos: [122, 361, 279, 646]\n",
      "Al reves: ['Hola mundo', 59, 1000, 71, 99, 67, 176, 652, 630, 379, 620, 335, 82, 866, 287, 358, 592, 853, 453, 701, 293, 890, 466, 327, 144, 75, 137, 141, 657, 198, 574, 444, 664, 10, 515, 984, 646, 279, 361, 122, 76]\n"
     ]
    }
   ],
   "source": [
    "##Utilizar al menos 4 elementos de las funciones de listas en python en la lista original de 40 elementos \n",
    "import random\n",
    "\n",
    "i=0\n",
    "n=40\n",
    "aleatorios = [random.randint(0,1000) for _ in range(n)]\n",
    "print(aleatorios)\n",
    "orden= sorted(aleatorios)\n",
    "x=\"Hola mundo\"\n",
    "aleatorios.append(x)\n",
    "print(\"Orden:\", orden)\n",
    "print(\"Hola mundo:\", aleatorios)\n",
    "print(\"5 elementos:\", aleatorios[1:5])\n",
    "\n",
    "aleatorios.reverse()\n",
    "print(\"Al reves:\", aleatorios)\n",
    "\n",
    "\n",
    "\n",
    "\n"
   ]
  },
  {
   "cell_type": "code",
   "execution_count": 162,
   "metadata": {},
   "outputs": [
    {
     "name": "stdout",
     "output_type": "stream",
     "text": [
      "diccionario:\n",
      " {'Ana': 22, 'V': 22, 'fernando': 21, 'maria jose': 21, 'sergio': 21, 'omar': 23, 'jose manuel': '21', 'antonio': '21'}\n",
      "\n",
      "valores de menor a mayor:\n",
      " [21, 21, 21, 22, 22, 23] \n",
      "\n",
      "nombres: \n",
      "Ana\n",
      "Victoria\n",
      "Fernando\n",
      "Mariana\n",
      "Deni\n",
      "Haydee\n",
      "\n",
      "nuevo diccionario:\n",
      " {'Ana': 22, 'Victoria': 22, 'Fernando': 21, 'Mariana': 21, 'Deni': 21, 'Haydee': 23, 'Jose Manuel': '21', 'Antonio': '21'}\n"
     ]
    }
   ],
   "source": [
    "#Diccionarios\n",
    "#Crear un diccionario de 6 personas que conozcas con su primer nombre y su edad\n",
    "m= {'Ana':22 , 'Victoria':22, 'Fernando':21, 'Mariana':21, 'Deni':21, 'Haydee':23}\n",
    "print(\"diccionario:\\n\",dicc1)\n",
    "\n",
    "#Crear una lista con los valores de la edad y reacomodar la lista de menor a mayor valor\n",
    "listm = m.values()\n",
    "listm = sorted(listm)\n",
    "print(\"\\nvalores de menor a mayor:\\n\", listm, \"\\n\")\n",
    "\n",
    "#Usando el diccionario y un loop, imprimir solo los nombres\n",
    "i= 1\n",
    "print(\"nombres: \")\n",
    "for i in m:\n",
    "    print(i)\n",
    "    \n",
    "#Añadir dos personas nuevas a tu diccionario, incluyendo edad\n",
    "m[\"Jose Manuel\"] = '21'\n",
    "m[\"Antonio\"] = '21'\n",
    "print(\"\\nnuevo diccionario:\\n\", m)"
   ]
  },
  {
   "cell_type": "code",
   "execution_count": null,
   "metadata": {},
   "outputs": [],
   "source": [
    "##SETS\n",
    "##Crea un set con 100 numeros aleatorios enteros del 1 al 25\n",
    "import random as r\n",
    "set1 = set()\n",
    "i=0\n",
    "while i<100:\n",
    "    set1.add(r.randint(1,25))\n",
    "    i= i+1\n",
    "print(\"set aleatorio: \\n\", set1)\n",
    "\n",
    "#Comprueba la longitud de tu set.\n",
    "longset = len(set1)\n",
    "print(\"\\nla longitud del set es:\\n\" , longset)\n",
    "\n",
    "#Crea una lista de 5 numeros aleatorios del 1 al 10 y comprueba si cada valor aparece en el set inicial\n",
    "lista5= list()\n",
    "i = 0\n",
    "while i< 10:\n",
    "    num = r.randint(1,10)\n",
    "    lista5.append(num)\n",
    "    i = i+1\n",
    "i= 0\n",
    "while i< 10:\n",
    "    comparador = lista5[i] in set1\n",
    "    print(\"\\nel numero: \",lista5[i],\",¿esta en el set inicial?:\\n\",comparador)\n",
    "    i = i+1"
   ]
  }
 ],
 "metadata": {
  "kernelspec": {
   "display_name": "Python 3",
   "language": "python",
   "name": "python3"
  },
  "language_info": {
   "codemirror_mode": {
    "name": "ipython",
    "version": 3
   },
   "file_extension": ".py",
   "mimetype": "text/x-python",
   "name": "python",
   "nbconvert_exporter": "python",
   "pygments_lexer": "ipython3",
   "version": "3.8.5"
  }
 },
 "nbformat": 4,
 "nbformat_minor": 4
}
